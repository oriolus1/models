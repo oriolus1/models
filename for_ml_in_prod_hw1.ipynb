import numpy as np
import pandas as pn

print("I am scared")
print(1 + 1)

a = [1, 2, 3]
print(a)
